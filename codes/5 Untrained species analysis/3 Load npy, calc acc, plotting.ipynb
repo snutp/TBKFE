{
 "cells": [
  {
   "cell_type": "markdown",
   "metadata": {},
   "source": [
    "# Install & load libraries"
   ]
  },
  {
   "cell_type": "code",
   "execution_count": null,
   "metadata": {},
   "outputs": [],
   "source": [
    "conda install -c plotly plotly-orca"
   ]
  },
  {
   "cell_type": "code",
   "execution_count": 4,
   "metadata": {},
   "outputs": [],
   "source": [
    "import glob\n",
    "import numpy as np"
   ]
  },
  {
   "cell_type": "markdown",
   "metadata": {},
   "source": [
    "# Load npy files"
   ]
  },
  {
   "cell_type": "code",
   "execution_count": 2,
   "metadata": {},
   "outputs": [],
   "source": [
    "VGG16_cm = np.load('EfficientNetB0_161epochs_CM_20spc_additional_analysis.npy')\n",
    "EfficientNet_cm = np.load('VGG-16_65epochs_CM_20spc_additional_analysis.npy')"
   ]
  },
  {
   "cell_type": "markdown",
   "metadata": {},
   "source": [
    "# Define variables"
   ]
  },
  {
   "cell_type": "code",
   "execution_count": 19,
   "metadata": {},
   "outputs": [
    {
     "data": {
      "text/plain": [
       "['Betulaceae Alnus glutinosa',\n",
       " 'Betulaceae Alnus hirsuta',\n",
       " 'Betulaceae Betula platyphylla',\n",
       " 'Betulaceae Carpinus betulus',\n",
       " 'Betulaceae Carpinus tschonoskii',\n",
       " 'Fagaceae Castanea sativ',\n",
       " 'Fagaceae Fagus sylvatica',\n",
       " 'Fagaceae Quercus alba',\n",
       " 'Fagaceae Quercus dentata',\n",
       " 'Fagaceae Quercus mongolica',\n",
       " 'Fagaceae Quercus × urticaefolia',\n",
       " 'Oleaceae Chionanthus retusus',\n",
       " 'Oleaceae Fraxinus rhynchophylla',\n",
       " 'Pinaceae Abies holophylla',\n",
       " 'Pinaceae Abies nephrolepis',\n",
       " 'Platanaceae Platanus orientalis',\n",
       " 'Salicaceae Populus grandidentata',\n",
       " 'Sapindaceae Acer pictum subsp. mono',\n",
       " 'Sapindaceae Acer pseudosieboldianum',\n",
       " 'Ulmaceae Ulmus parvifolia']"
      ]
     },
     "execution_count": 19,
     "metadata": {},
     "output_type": "execute_result"
    }
   ],
   "source": [
    "genus_species = [s.split('\\\\')[1] for s in glob.glob('Preprocessed\\\\*\\\\')]\n",
    "new_species = [spc.split('aceae ')[1] for spc in genus_species]\n",
    "genus_species"
   ]
  },
  {
   "cell_type": "code",
   "execution_count": 45,
   "metadata": {},
   "outputs": [],
   "source": [
    "genus_family_new = [\n",
    "    ['Alnus', 'Betulaceae'],\n",
    "    ['Alnus', 'Betulaceae'],\n",
    "    ['Betula', 'Betulaceae'],\n",
    "    ['Carpinus', 'Betulaceae'],\n",
    "    ['Carpinus', 'Betulaceae'],\n",
    "    ['Castanea', 'Fagaceae'],\n",
    "    ['Fagus', 'Fagaceae'],\n",
    "    ['Quercus', 'Fagaceae'],\n",
    "    ['Quercus', 'Fagaceae'],\n",
    "    ['Quercus', 'Fagaceae'],\n",
    "    ['Quercus', 'Fagaceae'],\n",
    "    ['Chionanthus', 'Oleaceae'],\n",
    "    ['Fraxinus', 'Oleaceae'],\n",
    "    ['Abies', 'Pinaceae'],\n",
    "    ['Abies', 'Pinaceae'],\n",
    "    ['Platanus', 'Platanaceae'],\n",
    "    ['Populus', 'Salicaceae'],\n",
    "    ['Acer', 'Sapindaceae'],\n",
    "    ['Acer', 'Sapindaceae'],\n",
    "    ['Ulmus', 'Ulmaceae'],\n",
    "]\n",
    "\n",
    "genera_to_family = {\n",
    "    'Abies':'Pinaceae',\n",
    "    'Acer':'Sapindaceae',\n",
    "    'Aesculus':'Sapindaceae',\n",
    "    'Betula':'Betulaceae',\n",
    "    'Castanea':'Fagaceae',\n",
    "    'Chamaecyparis':'Cupressaceae',\n",
    "    'Fagus':'Fagaceae',\n",
    "    'Fraxinus':'Oleaceae',\n",
    "    'Ginkgo':'Ginkgoaceae',\n",
    "    'Larix':'Pinaceae',\n",
    "    'Magnolia':'Magnoliaceae',\n",
    "    'Metasequoia':'Cupressaceae',\n",
    "    'Ostrya':'Betulaceae',\n",
    "    'Picea':'Pinaceae',\n",
    "    'Pinus':'Pinaceae',\n",
    "    'Platanus':'Platanaceae',\n",
    "    'Populus':'Salicaceae',\n",
    "    'Prunus':'Rosaceae',\n",
    "    'Quercus':'Fagaceae',\n",
    "    'Robinia':'Fabaceae',\n",
    "    'Sophora':'Fabaceae',\n",
    "    'Sorbus':'Rosaceae',\n",
    "    'Taxodium':'Cupressaceae',\n",
    "    'Thuja':'Cupressaceae',\n",
    "    'Tsuga':'Pinaceae',\n",
    "    'Ulmus':'Ulmaceae',\n",
    "    'Zelkova':'Ulmaceae'\n",
    "}"
   ]
  },
  {
   "cell_type": "markdown",
   "metadata": {},
   "source": [
    "# Create variables from original dataset (42 species)"
   ]
  },
  {
   "cell_type": "code",
   "execution_count": 3,
   "metadata": {},
   "outputs": [],
   "source": [
    "labels = ['Abies_balsamea', 'Acer_palmatum var. amoenum', 'Acer_rubrum', 'Acer_saccharum', 'Aesculus_turbinata', 'Betula_alleghaniensis', 'Betula_papyrifera', 'Castanea_crenata', 'Chamaecyparis_pisifera', 'Fagus_grandifolia', 'Fraxinus_americana', 'Ginkgo_biloba', 'Larix_laricina', 'Magnolia_obovata', 'Metasequoia_glyptostroboides', 'Ostrya_virginiana', 'Picea_abies', 'Picea_glauca', 'Picea_mariana', 'Picea_rubens', 'Pinus_densiflora', 'Pinus_koraiensis', 'Pinus_resinosa', 'Pinus_rigida_x_taeda', 'Pinus_strobus', 'Platanus_occidentalis', 'Populus_tremuloides', 'Prunus_serrulata', 'Prunus_yedoensis', 'Quercus_acutissima', 'Quercus_aliena', 'Quercus_rubra', 'Quercus_serrata', 'Quercus_variabilis', 'Robinia_pseudoacacia', 'Sophora_japonica', 'Sorbus_alnifolia', 'Taxodium_distichum', 'Thuja_occidentalis', 'Tsuga_canadensis', 'Ulmus_americana', 'Zelkova_serrata']\n",
    "species = [f'<i>{t.split(\"_\")[0]} {t.split(\"_\")[1]}<i>' for t in labels]\n",
    "genera = sorted(list({f'{t.split(\"_\")[0]}' for t in labels}))"
   ]
  },
  {
   "cell_type": "code",
   "execution_count": 31,
   "metadata": {},
   "outputs": [
    {
     "data": {
      "text/plain": [
       "[['Abies', 'Pinaceae'],\n",
       " ['Acer', 'Sapindaceae'],\n",
       " ['Acer', 'Sapindaceae'],\n",
       " ['Acer', 'Sapindaceae'],\n",
       " ['Aesculus', 'Sapindaceae'],\n",
       " ['Betula', 'Betulaceae'],\n",
       " ['Betula', 'Betulaceae'],\n",
       " ['Castanea', 'Fagaceae'],\n",
       " ['Chamaecyparis', 'Cupressaceae'],\n",
       " ['Fagus', 'Fagaceae'],\n",
       " ['Fraxinus', 'Oleaceae'],\n",
       " ['Ginkgo', 'Ginkgoaceae'],\n",
       " ['Larix', 'Pinaceae'],\n",
       " ['Magnolia', 'Magnoliaceae'],\n",
       " ['Metasequoia', 'Cupressaceae'],\n",
       " ['Ostrya', 'Betulaceae'],\n",
       " ['Picea', 'Pinaceae'],\n",
       " ['Picea', 'Pinaceae'],\n",
       " ['Picea', 'Pinaceae'],\n",
       " ['Picea', 'Pinaceae'],\n",
       " ['Pinus', 'Pinaceae'],\n",
       " ['Pinus', 'Pinaceae'],\n",
       " ['Pinus', 'Pinaceae'],\n",
       " ['Pinus', 'Pinaceae'],\n",
       " ['Pinus', 'Pinaceae'],\n",
       " ['Platanus', 'Platanaceae'],\n",
       " ['Populus', 'Salicaceae'],\n",
       " ['Prunus', 'Rosaceae'],\n",
       " ['Prunus', 'Rosaceae'],\n",
       " ['Quercus', 'Fagaceae'],\n",
       " ['Quercus', 'Fagaceae'],\n",
       " ['Quercus', 'Fagaceae'],\n",
       " ['Quercus', 'Fagaceae'],\n",
       " ['Quercus', 'Fagaceae'],\n",
       " ['Robinia', 'Fabaceae'],\n",
       " ['Sophora', 'Fabaceae'],\n",
       " ['Sorbus', 'Rosaceae'],\n",
       " ['Taxodium', 'Cupressaceae'],\n",
       " ['Thuja', 'Cupressaceae'],\n",
       " ['Tsuga', 'Pinaceae'],\n",
       " ['Ulmus', 'Ulmaceae'],\n",
       " ['Zelkova', 'Ulmaceae']]"
      ]
     },
     "execution_count": 31,
     "metadata": {},
     "output_type": "execute_result"
    }
   ],
   "source": [
    "genus_family_orig = []\n",
    "\n",
    "for i in range(42):\n",
    "    spc_ = f\"{labels[i].split('_')[0]} {labels[i].split('_')[1]}\"\n",
    "    gen_ = spc_.split(' ')[0]\n",
    "    fam_ = genera_to_family[gen_]\n",
    "    \n",
    "    genus_family_orig.append([gen_, fam_])\n",
    "\n",
    "genus_family_orig"
   ]
  },
  {
   "cell_type": "markdown",
   "metadata": {},
   "source": [
    "# Calculate accuracy by genera and family"
   ]
  },
  {
   "cell_type": "code",
   "execution_count": 41,
   "metadata": {},
   "outputs": [],
   "source": [
    "def get_indices_from_orig(gen_fam):\n",
    "    results = [[], []]\n",
    "    gen_, fam_ = gen_fam\n",
    "    \n",
    "    for i in range(42):\n",
    "        if genus_family_orig[i][0] == gen_:\n",
    "            results[0].append(i)\n",
    "        if genus_family_orig[i][1] == fam_:\n",
    "            results[1].append(i)\n",
    "    assert results[0] != [] or results[1] != []\n",
    "    return results"
   ]
  },
  {
   "cell_type": "code",
   "execution_count": 56,
   "metadata": {},
   "outputs": [
    {
     "name": "stdout",
     "output_type": "stream",
     "text": [
      "0 0 5\n",
      "1 0 0\n",
      "2 69 69\n",
      "3 0 1\n",
      "4 0 0\n",
      "5 13 33\n",
      "6 64 64\n",
      "7 5 5\n",
      "8 232 236\n",
      "9 142 155\n",
      "10 44 47\n",
      "11 0 0\n",
      "12 3 3\n",
      "13 0 72\n",
      "14 0 13\n",
      "15 105 105\n",
      "16 198 198\n",
      "17 27 27\n",
      "18 46 47\n",
      "19 0 19\n"
     ]
    },
    {
     "data": {
      "text/plain": [
       "(0.41984056687333926, 0.4867139061116032)"
      ]
     },
     "execution_count": 56,
     "metadata": {},
     "output_type": "execute_result"
    }
   ],
   "source": [
    "correct_genera = 0\n",
    "correct_fams = 0\n",
    "\n",
    "for i in range(len(CM)):\n",
    "    \n",
    "    matching_indices_gen, matching_indices_fam = get_indices_from_orig(genus_family_new[i])\n",
    "    \n",
    "    correct_genera += np.sum(CM[i][matching_indices_gen])\n",
    "    correct_fams += np.sum(CM[i][matching_indices_fam])\n",
    "    print(i, np.sum(CM[i][matching_indices_gen]), np.sum(CM[i][matching_indices_fam]))\n",
    "\n",
    "correct_genera / np.sum(CM), correct_fams / np.sum(CM)"
   ]
  },
  {
   "cell_type": "markdown",
   "metadata": {},
   "source": [
    "# Plotting VGG-16 Confusion Matrix"
   ]
  },
  {
   "cell_type": "code",
   "execution_count": 77,
   "metadata": {},
   "outputs": [],
   "source": [
    "cm_path = 'results/EfficientNetB0_161epochs_CM_21spc_additional_analysis.npy'\n",
    "cm = np.load(cm_path)\n",
    "\n",
    "cm = np.delete(cm, (17), axis=0)\n",
    "\n",
    "import plotly.figure_factory as ff\n",
    "\n",
    "# z = cm\n",
    "z = cm.astype('float') / cm.sum(axis=1)[:, np.newaxis]\n",
    "\n",
    "x = species\n",
    "y = new_species\n",
    "y = [f'<i>{y}</i>' for y in y]\n",
    "\n",
    "# change each element of z to type string for annotations\n",
    "z_text = [[str(round(y*100,1) if round(y*100, 1) != 0 else '') for y in x] for x in z]\n",
    "\n",
    "# set up figure \n",
    "fig = ff.create_annotated_heatmap(z, x=x, y=y, colorscale='Blues', annotation_text=z_text)\n",
    "fig.update_layout(yaxis = dict(categoryorder = 'category descending'), xaxis = dict(tickangle = -45))\n",
    "\n",
    "# add custom xaxis title\n",
    "fig.add_annotation(dict(font=dict(color=\"black\",size=20),\n",
    "                        x=0.5,\n",
    "                        y=-0.30,\n",
    "                        showarrow=False,\n",
    "                        text=\"Predicted value\",\n",
    "                        xref=\"paper\",\n",
    "                        yref=\"paper\"))\n",
    "\n",
    "# add custom yaxis title\n",
    "fig.add_annotation(dict(font=dict(color=\"black\",size=20),\n",
    "                        x=-0.18,\n",
    "                        y=0.5,\n",
    "                        showarrow=False,\n",
    "                        text=\"Real value\",\n",
    "                        textangle=-90,\n",
    "                        xref=\"paper\",\n",
    "                        yref=\"paper\"))\n",
    "\n",
    "# adjust margins to make room for yaxis title\n",
    "fig.update_layout(margin=dict(b=150, l=250))\n",
    "fig.update_layout(\n",
    "    autosize=False,\n",
    "    width=1600,\n",
    "    height=800,)\n",
    "fig.update_xaxes(tickfont_size=14)\n",
    "fig.update_yaxes(tickfont_size=14)\n",
    "\n",
    "# add colorbar\n",
    "fig['data'][0]['showscale'] = True\n",
    "fig['layout']['xaxis']['side'] = 'bottom'\n",
    "\n",
    "fig.write_html(\"VGG-16_CM.html\")\n",
    "#fig.show()\n",
    "fig.write_image('VGG16_CM.svg')"
   ]
  },
  {
   "cell_type": "markdown",
   "metadata": {},
   "source": [
    "# EfficientNet"
   ]
  },
  {
   "cell_type": "code",
   "execution_count": 68,
   "metadata": {},
   "outputs": [],
   "source": [
    "def get_indices_from_orig(gen_fam):\n",
    "    results = [[], []]\n",
    "    gen_, fam_ = gen_fam\n",
    "    \n",
    "    for i in range(42):\n",
    "        if genus_family_orig[i][0] == gen_:\n",
    "            results[0].append(i)\n",
    "        if genus_family_orig[i][1] == fam_:\n",
    "            results[1].append(i)\n",
    "    assert results[0] != [] or results[1] != []\n",
    "    return results"
   ]
  },
  {
   "cell_type": "code",
   "execution_count": 69,
   "metadata": {},
   "outputs": [
    {
     "name": "stdout",
     "output_type": "stream",
     "text": [
      "0 0 4\n",
      "1 0 2\n",
      "2 53 53\n",
      "3 0 0\n",
      "4 0 1\n",
      "5 15 32\n",
      "6 27 28\n",
      "7 13 14\n",
      "8 258 258\n",
      "9 130 149\n",
      "10 48 48\n",
      "11 0 0\n",
      "12 0 0\n",
      "13 0 79\n",
      "14 0 11\n",
      "15 63 63\n",
      "16 111 111\n",
      "17 56 56\n",
      "18 78 79\n",
      "19 1 17\n"
     ]
    },
    {
     "data": {
      "text/plain": [
       "(0.3777679362267493, 0.4450841452612932)"
      ]
     },
     "execution_count": 69,
     "metadata": {},
     "output_type": "execute_result"
    }
   ],
   "source": [
    "correct_genera = 0\n",
    "correct_fams = 0\n",
    "\n",
    "for i in range(len(CM)):\n",
    "    \n",
    "    matching_indices_gen, matching_indices_fam = get_indices_from_orig(genus_family_new[i])\n",
    "    \n",
    "    correct_genera += np.sum(CM[i][matching_indices_gen])\n",
    "    correct_fams += np.sum(CM[i][matching_indices_fam])\n",
    "    print(i, np.sum(CM[i][matching_indices_gen]), np.sum(CM[i][matching_indices_fam]))\n",
    "\n",
    "correct_genera / np.sum(CM), correct_fams / np.sum(CM)"
   ]
  },
  {
   "cell_type": "code",
   "execution_count": 78,
   "metadata": {},
   "outputs": [],
   "source": [
    "CM = np.delete(EfficientNet_cm, (17), axis=0)\n",
    "\n",
    "cm = CM\n",
    "\n",
    "import plotly.figure_factory as ff\n",
    "\n",
    "# z = cm\n",
    "z = cm.astype('float') / cm.sum(axis=1)[:, np.newaxis]\n",
    "\n",
    "x = species\n",
    "y = new_species\n",
    "y = [f'<i>{y}</i>' for y in y]\n",
    "\n",
    "# change each element of z to type string for annotations\n",
    "z_text = [[str(round(y*100,1) if round(y*100, 1) != 0 else '') for y in x] for x in z]\n",
    "\n",
    "# set up figure \n",
    "fig = ff.create_annotated_heatmap(z, x=x, y=y, colorscale='Blues', annotation_text=z_text)\n",
    "fig.update_layout(yaxis = dict(categoryorder = 'category descending'), xaxis = dict(tickangle = -45))\n",
    "\n",
    "# add custom xaxis title\n",
    "fig.add_annotation(dict(font=dict(color=\"black\",size=20),\n",
    "                        x=0.5,\n",
    "                        y=-0.30,\n",
    "                        showarrow=False,\n",
    "                        text=\"Predicted value\",\n",
    "                        xref=\"paper\",\n",
    "                        yref=\"paper\"))\n",
    "\n",
    "# add custom yaxis title\n",
    "fig.add_annotation(dict(font=dict(color=\"black\",size=20),\n",
    "                        x=-0.18,\n",
    "                        y=0.5,\n",
    "                        showarrow=False,\n",
    "                        text=\"Real value\",\n",
    "                        textangle=-90,\n",
    "                        xref=\"paper\",\n",
    "                        yref=\"paper\"))\n",
    "\n",
    "# adjust margins to make room for yaxis title\n",
    "fig.update_layout(margin=dict(b=150, l=250))\n",
    "fig.update_layout(\n",
    "    autosize=False,\n",
    "    width=1600,\n",
    "    height=800,)\n",
    "fig.update_xaxes(tickfont_size=14)\n",
    "fig.update_yaxes(tickfont_size=14)\n",
    "\n",
    "# add colorbar\n",
    "fig['data'][0]['showscale'] = True\n",
    "fig['layout']['xaxis']['side'] = 'bottom'\n",
    "\n",
    "fig.write_html(\"EfficientNetB0_CM.html\")\n",
    "#fig.show()\n",
    "fig.write_image('EfficientNetB0.svg')"
   ]
  }
 ],
 "metadata": {
  "kernelspec": {
   "display_name": "Python 3",
   "language": "python",
   "name": "python3"
  },
  "language_info": {
   "codemirror_mode": {
    "name": "ipython",
    "version": 3
   },
   "file_extension": ".py",
   "mimetype": "text/x-python",
   "name": "python",
   "nbconvert_exporter": "python",
   "pygments_lexer": "ipython3",
   "version": "3.8.5"
  }
 },
 "nbformat": 4,
 "nbformat_minor": 4
}
