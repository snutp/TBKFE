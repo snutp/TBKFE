{
 "cells": [
  {
   "cell_type": "markdown",
   "metadata": {},
   "source": [
    "# Import libraries"
   ]
  },
  {
   "cell_type": "code",
   "execution_count": 13,
   "metadata": {},
   "outputs": [],
   "source": [
    "from tensorflow.keras.models import load_model\n",
    "from tensorflow.keras.preprocessing import image\n",
    "import numpy as np\n",
    "import glob, os"
   ]
  },
  {
   "cell_type": "markdown",
   "metadata": {},
   "source": [
    "# Set data path and get list of species"
   ]
  },
  {
   "cell_type": "code",
   "execution_count": 3,
   "metadata": {},
   "outputs": [
    {
     "data": {
      "text/plain": [
       "['Betulaceae Alnus glutinosa',\n",
       " 'Betulaceae Alnus hirsuta',\n",
       " 'Betulaceae Betula platyphylla',\n",
       " 'Betulaceae Carpinus betulus',\n",
       " 'Betulaceae Carpinus tschonoskii',\n",
       " 'Fagaceae Castanea sativ',\n",
       " 'Fagaceae Fagus sylvatica',\n",
       " 'Fagaceae Quercus alba',\n",
       " 'Fagaceae Quercus dentata',\n",
       " 'Fagaceae Quercus mongolica',\n",
       " 'Fagaceae Quercus × urticaefolia',\n",
       " 'Oleaceae Chionanthus retusus',\n",
       " 'Oleaceae Fraxinus rhynchophylla',\n",
       " 'Pinaceae Abies holophylla',\n",
       " 'Pinaceae Abies nephrolepis',\n",
       " 'Platanaceae Platanus orientalis',\n",
       " 'Salicaceae Populus grandidentata',\n",
       " 'Sapindaceae Acer pictum subsp. mono',\n",
       " 'Sapindaceae Acer pseudosieboldianum',\n",
       " 'Ulmaceae Ulmus parvifolia']"
      ]
     },
     "execution_count": 3,
     "metadata": {},
     "output_type": "execute_result"
    }
   ],
   "source": [
    "target_size = (331, 331)\n",
    "data_path = 'path\\\\to\\\\image\\\\data'\n",
    "\n",
    "# Get list of species in the folder\n",
    "species = [s.split('\\\\')[1] for s in glob.glob(data_path)]\n",
    "species"
   ]
  },
  {
   "cell_type": "markdown",
   "metadata": {},
   "source": [
    "# Load model"
   ]
  },
  {
   "cell_type": "code",
   "execution_count": 17,
   "metadata": {},
   "outputs": [],
   "source": [
    "# path to model\n",
    "model_path = 'path\\\\to\\\\keras_model.h5'\n",
    "# load the trained model\n",
    "model = load_model(model_path)"
   ]
  },
  {
   "cell_type": "markdown",
   "metadata": {},
   "source": [
    "# Get prediction by species & save to npy"
   ]
  },
  {
   "cell_type": "code",
   "execution_count": 10,
   "metadata": {},
   "outputs": [
    {
     "name": "stdout",
     "output_type": "stream",
     "text": [
      "\n",
      "Betulaceae Alnus glutinosa\n",
      "14/14 [==============================] - 2s 51ms/step\n",
      "Betulaceae Alnus hirsuta\n",
      "4/4 [==============================] - 0s 114ms/step\n",
      "Betulaceae Betula platyphylla\n",
      "15/15 [==============================] - 1s 50ms/step\n",
      "Betulaceae Carpinus betulus\n",
      "12/12 [==============================] - 2s 37ms/step\n",
      "Betulaceae Carpinus tschonoskii\n",
      "4/4 [==============================] - 0s 101ms/step\n",
      "Fagaceae Castanea sativ\n",
      "13/13 [==============================] - 1s 37ms/step\n",
      "Fagaceae Fagus sylvatica\n",
      "12/12 [==============================] - 0s 37ms/step\n",
      "Fagaceae Quercus alba\n",
      "4/4 [==============================] - 0s 102ms/step\n",
      "Fagaceae Quercus dentata\n",
      "26/26 [==============================] - 1s 37ms/step\n",
      "Fagaceae Quercus mongolica\n",
      "18/18 [==============================] - 1s 36ms/step\n",
      "Fagaceae Quercus × urticaefolia\n",
      "5/5 [==============================] - 0s 39ms/step\n",
      "Oleaceae Chionanthus retusus\n",
      "5/5 [==============================] - 0s 83ms/step\n",
      "Oleaceae Fraxinus rhynchophylla\n",
      "12/12 [==============================] - 1s 51ms/step\n",
      "Pinaceae Abies holophylla\n",
      "17/17 [==============================] - 1s 49ms/step\n",
      "Pinaceae Abies nephrolepis\n",
      "8/8 [==============================] - 0s 36ms/step\n",
      "Platanaceae Platanus orientalis\n",
      "13/13 [==============================] - 1s 36ms/step\n",
      "Salicaceae Populus grandidentata\n",
      "30/30 [==============================] - 1s 36ms/step\n",
      "Sapindaceae Acer pictum subsp. mono\n",
      "6/6 [==============================] - 0s 38ms/step\n",
      "Sapindaceae Acer pseudosieboldianum\n",
      "11/11 [==============================] - 0s 34ms/step\n",
      "Ulmaceae Ulmus parvifolia\n",
      "5/5 [==============================] - 0s 35ms/step\n"
     ]
    }
   ],
   "source": [
    "CM = []\n",
    "for spc in species:\n",
    "    print(spc)\n",
    "    \n",
    "    imgs = glob.glob(f'Preprocessed\\\\{spc}\\\\test_crop\\\\*.jpg')\n",
    "    \n",
    "    images = []\n",
    "    for img in imgs:\n",
    "        img = image.load_img(img, target_size=target_size)\n",
    "        img = image.img_to_array(img) / 255.\n",
    "        img = np.expand_dims(img, axis=0)\n",
    "        images.append(img)\n",
    "\n",
    "    images = np.vstack(images)\n",
    "    y_pred = model.predict(images, batch_size=10, verbose=1)\n",
    "    classes = np.argmax(y_pred, axis=1)\n",
    "    \n",
    "    arr = np.bincount(np.hstack([classes, 41]))\n",
    "    arr[-1] -= 1\n",
    "    arr\n",
    "\n",
    "    CM.append(arr)\n",
    "\n",
    "CM = np.vstack(CM)\n",
    "np.save('VGG-16_65epochs_CM_20spc_additional_analysis.npy', CM)"
   ]
  }
 ],
 "metadata": {
  "kernelspec": {
   "display_name": "Python 3",
   "language": "python",
   "name": "python3"
  },
  "language_info": {
   "codemirror_mode": {
    "name": "ipython",
    "version": 3
   },
   "file_extension": ".py",
   "mimetype": "text/x-python",
   "name": "python",
   "nbconvert_exporter": "python",
   "pygments_lexer": "ipython3",
   "version": "3.8.5"
  }
 },
 "nbformat": 4,
 "nbformat_minor": 4
}
