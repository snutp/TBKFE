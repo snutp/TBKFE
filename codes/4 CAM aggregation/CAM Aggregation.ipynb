{
 "cells": [
  {
   "cell_type": "code",
   "execution_count": 1,
   "metadata": {},
   "outputs": [],
   "source": [
    "import glob, os, ntpath, shutil, sys\n",
    "from pathlib import Path\n",
    "from ntpath import basename\n",
    "\n",
    "import cv2\n",
    "import h5py\n",
    "import imageio\n",
    "import matplotlib.pyplot as plt\n",
    "import numpy as np\n",
    "from PIL import Image\n",
    "from scipy.ndimage.interpolation import zoom\n",
    "from skimage.transform import resize\n",
    "\n",
    "import tensorflow as tf\n",
    "from tensorflow.keras import backend as K\n",
    "from tensorflow.keras.models import load_model\n",
    "from tensorflow.python.keras.preprocessing import image\n",
    "from tensorflow.keras.preprocessing.image import ImageDataGenerator, load_img, img_to_array\n",
    "tf.compat.v1.disable_eager_execution()"
   ]
  },
  {
   "cell_type": "markdown",
   "metadata": {},
   "source": [
    "# Load CNN model"
   ]
  },
  {
   "cell_type": "code",
   "execution_count": 4,
   "metadata": {},
   "outputs": [],
   "source": [
    "model_path = 'path/to/model.h5'\n",
    "model = load_model(model_path, compile=False)"
   ]
  },
  {
   "cell_type": "code",
   "execution_count": 6,
   "metadata": {},
   "outputs": [],
   "source": [
    "target_size = (331, 331)\n",
    "layer_name = 'block5_conv3'\n",
    "image_path = 'dataset/Pinus_koraiensis/BARK_KR.Pinus_koraiensis.177.jpg'\n",
    "index = 21 # Use the ground truth index number for each class index"
   ]
  },
  {
   "cell_type": "markdown",
   "metadata": {},
   "source": [
    "# Class Activation Mapping (CAM) Aggregation"
   ]
  },
  {
   "cell_type": "code",
   "execution_count": 7,
   "metadata": {},
   "outputs": [],
   "source": [
    "y_c = model.output[0, index]\n",
    "conv_output = model.get_layer(layer_name).output\n",
    "grads = K.gradients(y_c, conv_output)[0]\n",
    "\n",
    "first = K.exp(y_c)*grads\n",
    "second = K.exp(y_c)*grads*grads\n",
    "third = K.exp(y_c)*grads*grads*grads\n",
    "\n",
    "gradient_function = K.function([model.input], [y_c, first,second,third, conv_output, grads])"
   ]
  },
  {
   "cell_type": "code",
   "execution_count": null,
   "metadata": {},
   "outputs": [],
   "source": [
    "im = np.array(Image.open(image_path)) / 255.\n",
    "h, w, _ = im.shape\n",
    "\n",
    "w_prime = int(w * 0.4) if int(w * 0.4)%2==0 else int(w * 0.4) + 1\n",
    "stride = int(w_prime / 2)\n",
    "\n",
    "if w_prime < 331:\n",
    "    w_prime = 330\n",
    "    stride = int(w_prime / 2)\n",
    "\n",
    "pad_w1, pad_w2 = stride, 2*stride - w%stride\n",
    "pad_h1, pad_h2 = stride, 2*stride - h%stride\n",
    "n_pads = ((pad_h1, pad_h2), (pad_w1, pad_w2), (0,0))\n",
    "\n",
    "# Create empty image with the padded width & height\n",
    "im_pad = np.pad(im, n_pads, 'constant', constant_values=0)\n",
    "h_pad, w_pad, _ = im_pad.shape\n",
    "R = np.zeros((h_pad, w_pad))"
   ]
  },
  {
   "cell_type": "code",
   "execution_count": 9,
   "metadata": {},
   "outputs": [],
   "source": [
    "# Calculate number of iterations\n",
    "N = int((h_pad - w_prime) / stride + 1)\n",
    "M = int((w_pad - w_prime) / stride + 1)\n",
    "\n",
    "for i in range(N):\n",
    "    for j in range(M):\n",
    "        i_, j_ = i * stride, j * stride\n",
    "        crop_im = im_pad[i_:i_+w_prime, j_:j_+w_prime, :]\n",
    "        crop_im = cv2.resize(crop_im, dsize=target_size, interpolation=cv2.INTER_NEAREST)\n",
    "        img_tensor = np.expand_dims(crop_im, axis=0)\n",
    "\n",
    "        y_c, conv_first_grad, conv_second_grad,conv_third_grad, conv_output, grads_val = gradient_function([img_tensor])\n",
    "        global_sum = np.sum(conv_output[0].reshape((-1,conv_first_grad[0].shape[2])), axis=0)\n",
    "        alpha_num = conv_second_grad[0]\n",
    "        alpha_denom = conv_second_grad[0]*2.0 + conv_third_grad[0]*global_sum.reshape((1,1,conv_first_grad[0].shape[2]))\n",
    "        alpha_denom = np.where(alpha_denom != 0.0, alpha_denom, np.ones(alpha_denom.shape))\n",
    "        alphas = alpha_num/alpha_denom\n",
    "        weights = np.maximum(conv_first_grad[0], 0.0)\n",
    "        alpha_normalization_constant = np.sum(np.sum(alphas, axis=0),axis=0)\n",
    "        alphas /= alpha_normalization_constant.reshape((1,1,conv_first_grad[0].shape[2]))\n",
    "        deep_linearization_weights = np.sum((weights*alphas).reshape((-1,conv_first_grad[0].shape[2])),axis=0)\n",
    "        \n",
    "        grad_CAM_map = np.sum(deep_linearization_weights*conv_output[0], axis=2)\n",
    "        cam = np.maximum(grad_CAM_map, 0)\n",
    "        cam = zoom(cam,w_prime/cam.shape[0]) # Upscaling to w_prime\n",
    "        cam = cam / np.max(cam) # scale 0 to 1.0\n",
    "        cam[np.isnan(cam)] = 0\n",
    "        R[i_:i_+w_prime, j_:j_+w_prime] += cam\n",
    "\n",
    "R = R[stride:stride+h,stride:stride+w]\n",
    "R = np.maximum(R, 0) # Retrieve only positive values\n",
    "R = (R * 255 / 4).astype('uint8')"
   ]
  },
  {
   "cell_type": "markdown",
   "metadata": {},
   "source": [
    "# Superimpose CAM Aggregation results on the original images"
   ]
  },
  {
   "cell_type": "code",
   "execution_count": 35,
   "metadata": {},
   "outputs": [],
   "source": [
    "orig_img = cv2.imread(image_path)\n",
    "CAM_img = cv2.applyColorMap(R, cv2.COLORMAP_JET)\n",
    "alpha = 0.4\n",
    "superimposed = alpha * CAM_img + (1 - alpha) * orig_img"
   ]
  },
  {
   "cell_type": "code",
   "execution_count": 36,
   "metadata": {},
   "outputs": [
    {
     "data": {
      "text/plain": [
       "True"
      ]
     },
     "execution_count": 36,
     "metadata": {},
     "output_type": "execute_result"
    }
   ],
   "source": [
    "cv2.imwrite('sample.jpg', superimposed)"
   ]
  },
  {
   "cell_type": "markdown",
   "metadata": {},
   "source": [
    "![](sample.jpg)"
   ]
  }
 ],
 "metadata": {
  "kernelspec": {
   "display_name": "Python 3",
   "language": "python",
   "name": "python3"
  },
  "language_info": {
   "codemirror_mode": {
    "name": "ipython",
    "version": 3
   },
   "file_extension": ".py",
   "mimetype": "text/x-python",
   "name": "python",
   "nbconvert_exporter": "python",
   "pygments_lexer": "ipython3",
   "version": "3.8.5"
  }
 },
 "nbformat": 4,
 "nbformat_minor": 4
}
